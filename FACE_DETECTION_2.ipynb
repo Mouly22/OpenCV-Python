{
 "cells": [
  {
   "cell_type": "code",
   "execution_count": 1,
   "id": "604e624e",
   "metadata": {},
   "outputs": [
    {
     "name": "stdout",
     "output_type": "stream",
     "text": [
      "Requirement already satisfied: opencv-python in /Users/mouly/opt/anaconda3/lib/python3.8/site-packages (4.6.0.66)\r\n",
      "Requirement already satisfied: numpy>=1.14.5 in /Users/mouly/opt/anaconda3/lib/python3.8/site-packages (from opencv-python) (1.20.1)\r\n"
     ]
    }
   ],
   "source": [
    "!pip install opencv-python"
   ]
  },
  {
   "cell_type": "code",
   "execution_count": null,
   "id": "d858969d",
   "metadata": {},
   "outputs": [],
   "source": []
  },
  {
   "cell_type": "code",
   "execution_count": null,
   "id": "42e5a7e6",
   "metadata": {},
   "outputs": [],
   "source": []
  },
  {
   "cell_type": "code",
   "execution_count": null,
   "id": "5fecb11f",
   "metadata": {},
   "outputs": [],
   "source": []
  },
  {
   "cell_type": "code",
   "execution_count": null,
   "id": "f6e0e382",
   "metadata": {},
   "outputs": [],
   "source": [
    "import cv2\n",
    "import math\n",
    "vid = cv2.VideoCapture(\"moulymeet.mp4\") #put you video file location here\n",
    "facedetector = cv2.CascadeClassifier(\"haarcascade_frontalface_default.xml\") #importing model\n",
    "while True:\n",
    "    success,img = vid.read()\n",
    "    imggray = cv2.cvtColor(img,cv2.COLOR_BGR2GRAY)\n",
    "    faces = facedetector.detectMultiScale(imggray,1.1,4)\n",
    "\n",
    "    for (x,y,w,h)in faces:\n",
    "        a = x+(w//2)\n",
    "        b = y+(h//2)\n",
    "        distance = math.sqrt((a-img.shape[1]//2)**2+(b - img.shape[0]//2)**2) #calculating distance\n",
    "        #final = str(a)+\", \"+ str(b)\n",
    "        cv2.rectangle(img,(x,y),(x+w,y+h),(255,0,5),2) #the rectangle\n",
    "        cv2.putText(img,\"Distance: \"+ str(int(distance)),(x+100,y+100),cv2.FONT_HERSHEY_COMPLEX,1,(0,255,30),3) #Text of distance\n",
    "        cv2.line(img,(img.shape[1]//2,img.shape[0]//2),(a,b),(0,255,30),3) #the line from the center\n",
    "        xvar = a - img.shape[1]//2\n",
    "        yvar = b - img.shape[0]//2\n",
    "        textvar = \"Center\"\n",
    "        if yvar >0: #conditions for face positions\n",
    "            textvar = \"Bottom\"\n",
    "            if xvar >0:\n",
    "                textvar += \" Right\"\n",
    "            else:\n",
    "                textvar += \" Left\"\n",
    "        else:\n",
    "            textvar = \"Upper\"\n",
    "            if xvar >0:\n",
    "                textvar += \" Right\"\n",
    "            else:\n",
    "                textvar += \" Left\"\n",
    "                \n",
    "        cv2.putText(img,\"Position: \"+ textvar,(x+100,y+150),cv2.FONT_HERSHEY_COMPLEX,1,(0,255,30),3)    #position text    \n",
    "                \n",
    "        \n",
    "    cv2.imshow(\"Video\",img)\n",
    "    if cv2.waitKey(1) & 0xFF == ord(\"q\"):\n",
    "        break"
   ]
  },
  {
   "cell_type": "code",
   "execution_count": 6,
   "id": "b69e53af",
   "metadata": {},
   "outputs": [
    {
     "ename": "error",
     "evalue": "OpenCV(4.6.0) /Users/runner/work/opencv-python/opencv-python/opencv/modules/imgproc/src/color.cpp:182: error: (-215:Assertion failed) !_src.empty() in function 'cvtColor'\n",
     "output_type": "error",
     "traceback": [
      "\u001b[0;31m---------------------------------------------------------------------------\u001b[0m",
      "\u001b[0;31merror\u001b[0m                                     Traceback (most recent call last)",
      "\u001b[0;32m<ipython-input-6-448f7b53e1e2>\u001b[0m in \u001b[0;36m<module>\u001b[0;34m\u001b[0m\n\u001b[1;32m     10\u001b[0m \u001b[0;32mwhile\u001b[0m \u001b[0;32mTrue\u001b[0m\u001b[0;34m:\u001b[0m\u001b[0;34m\u001b[0m\u001b[0;34m\u001b[0m\u001b[0m\n\u001b[1;32m     11\u001b[0m     \u001b[0msuccess\u001b[0m\u001b[0;34m,\u001b[0m \u001b[0mimg\u001b[0m \u001b[0;34m=\u001b[0m \u001b[0mcap\u001b[0m\u001b[0;34m.\u001b[0m\u001b[0mread\u001b[0m\u001b[0;34m(\u001b[0m\u001b[0;34m)\u001b[0m\u001b[0;34m\u001b[0m\u001b[0;34m\u001b[0m\u001b[0m\n\u001b[0;32m---> 12\u001b[0;31m     \u001b[0mimgGray\u001b[0m \u001b[0;34m=\u001b[0m \u001b[0mcv2\u001b[0m\u001b[0;34m.\u001b[0m\u001b[0mcvtColor\u001b[0m\u001b[0;34m(\u001b[0m\u001b[0mimg\u001b[0m\u001b[0;34m,\u001b[0m \u001b[0mcv2\u001b[0m\u001b[0;34m.\u001b[0m\u001b[0mCOLOR_BGR2GRAY\u001b[0m\u001b[0;34m)\u001b[0m\u001b[0;34m\u001b[0m\u001b[0;34m\u001b[0m\u001b[0m\n\u001b[0m\u001b[1;32m     13\u001b[0m     \u001b[0mfaces\u001b[0m \u001b[0;34m=\u001b[0m \u001b[0mfaceCascade\u001b[0m\u001b[0;34m.\u001b[0m\u001b[0mdetectMultiScale\u001b[0m\u001b[0;34m(\u001b[0m\u001b[0mimgGray\u001b[0m\u001b[0;34m,\u001b[0m \u001b[0;36m1.1\u001b[0m\u001b[0;34m,\u001b[0m \u001b[0;36m4\u001b[0m\u001b[0;34m)\u001b[0m\u001b[0;34m\u001b[0m\u001b[0;34m\u001b[0m\u001b[0m\n\u001b[1;32m     14\u001b[0m \u001b[0;34m\u001b[0m\u001b[0m\n",
      "\u001b[0;31merror\u001b[0m: OpenCV(4.6.0) /Users/runner/work/opencv-python/opencv-python/opencv/modules/imgproc/src/color.cpp:182: error: (-215:Assertion failed) !_src.empty() in function 'cvtColor'\n"
     ]
    }
   ],
   "source": [
    "#final\n",
    "\n",
    "import cv2\n",
    "import math\n",
    "cap = cv2.VideoCapture(1)\n",
    "cap.set(3, 640)\n",
    "cap.set(4, 480)\n",
    "faceCascade = cv2.CascadeClassifier('haarcascade_frontalface_default.xml') #importing xml file\n",
    "\n",
    "while True:\n",
    "    success, img = cap.read()\n",
    "    imgGray = cv2.cvtColor(img, cv2.COLOR_BGR2GRAY)\n",
    "    faces = faceCascade.detectMultiScale(imgGray, 1.1, 4)\n",
    "    \n",
    "    \n",
    "    \n",
    "    for (x, y, width, height) in faces:\n",
    "        pos1 = x+(width//2)\n",
    "        pos2 = y+(height//2)\n",
    "        w_shape = img.shape[1]//2\n",
    "        h_shape = img.shape[0]//2\n",
    "        eqn1 = pos1 - w_shape\n",
    "        eqn2 = pos2 - h_shape\n",
    "        #calculating the distance of the face\n",
    "        distance = math.sqrt((pos1 - w_shape)**2 + (pos2 - h_shape)**2)\n",
    "        #defining the rectangle\n",
    "        cv2.rectangle(img,(x,y),(x+width, y+height), (0, 255, 0), 4)\n",
    "         #line for indicating the center of the face\n",
    "        cv2.line(img, (w_shape, h_shape), (pos1, pos2), (0,255,0), 3)\n",
    "        #for face positions\n",
    "        variable = 'Center'\n",
    "        if eqn2 <= 0:\n",
    "            variable = 'Upward'\n",
    "            if eqn1 > 0:\n",
    "                variable += 'Right'\n",
    "            else:\n",
    "                variable += 'Left'\n",
    "        elif eqn1 > 0:\n",
    "            variable = 'Downward'\n",
    "            if eqn1 > 0:\n",
    "                variable += 'Right'\n",
    "            else:\n",
    "                variable += 'Left'\n",
    "        #text for the distance\n",
    "        cv2.putText(img, 'Distance :'+ str(int(distance)),(x+100,y+100), cv2.FONT_HERSHEY_COMPLEX, 1, (0, 150,0), 2)\n",
    "                \n",
    "        #text for the position\n",
    "        cv2.putText(img, 'Position: '+ variable, (x+100, y+200), cv2.FONT_HERSHEY_COMPLEX, 1, (0, 150,0), 2)\n",
    "        \n",
    "        \n",
    "        \n",
    "    cv2.imshow('Output', img)\n",
    "    if cv2.waitKey(1) & 0xFF == ord('m'):\n",
    "        break"
   ]
  },
  {
   "cell_type": "code",
   "execution_count": null,
   "id": "4dd88808",
   "metadata": {},
   "outputs": [],
   "source": [
    " cv2.rectangle(img,(x,y),(x+w,y+h),(255,0,5),2) #the rectangle\n",
    "        cv2.putText(img,\"Distance: \"+ str(int(distance)),(x+100,y+100),cv2.FONT_HERSHEY_COMPLEX,1,(0,255,30),3) #Text of distance\n",
    "        cv2.line(img,(img.shape[1]//2,img.shape[0]//2),(a,b),(0,255,30),3) #the line from the center\n",
    "        xvar = a - img.shape[1]//2\n",
    "        yvar = b - img.shape[0]//2\n",
    "        textvar = \"Center\"\n",
    "        if yvar >0: #conditions for face positions\n",
    "            textvar = \"Bottom\"\n",
    "            if xvar >0:\n",
    "                textvar += \" Right\"\n",
    "            else:\n",
    "                textvar += \" Left\"\n",
    "        else:\n",
    "            textvar = \"Upper\"\n",
    "            if xvar >0:\n",
    "                textvar += \" Right\"\n",
    "            else:\n",
    "                textvar += \" Left\"\n",
    "                \n",
    "        cv2.putText(img,\"Position: \"+ textvar,(x+100,y+150),cv2.FONT_HERSHEY_COMPLEX,1,(0,255,30),3)    #position text    \n",
    "                "
   ]
  },
  {
   "cell_type": "code",
   "execution_count": null,
   "id": "43323537",
   "metadata": {},
   "outputs": [],
   "source": []
  },
  {
   "cell_type": "code",
   "execution_count": null,
   "id": "bcab53f7",
   "metadata": {},
   "outputs": [],
   "source": []
  },
  {
   "cell_type": "code",
   "execution_count": null,
   "id": "beb5e17e",
   "metadata": {},
   "outputs": [],
   "source": []
  }
 ],
 "metadata": {
  "kernelspec": {
   "display_name": "Python 3",
   "language": "python",
   "name": "python3"
  },
  "language_info": {
   "codemirror_mode": {
    "name": "ipython",
    "version": 3
   },
   "file_extension": ".py",
   "mimetype": "text/x-python",
   "name": "python",
   "nbconvert_exporter": "python",
   "pygments_lexer": "ipython3",
   "version": "3.8.8"
  }
 },
 "nbformat": 4,
 "nbformat_minor": 5
}
